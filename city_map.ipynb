{
  "nbformat": 4,
  "nbformat_minor": 0,
  "metadata": {
    "colab": {
      "provenance": [],
      "authorship_tag": "ABX9TyNR3Emd8p8JAHquZtjayT+l",
      "include_colab_link": true
    },
    "kernelspec": {
      "name": "python3",
      "display_name": "Python 3"
    },
    "language_info": {
      "name": "python"
    }
  },
  "cells": [
    {
      "cell_type": "markdown",
      "metadata": {
        "id": "view-in-github",
        "colab_type": "text"
      },
      "source": [
        "<a href=\"https://colab.research.google.com/github/Babin10/AI/blob/main/city_map.ipynb\" target=\"_parent\"><img src=\"https://colab.research.google.com/assets/colab-badge.svg\" alt=\"Open In Colab\"/></a>"
      ]
    },
    {
      "cell_type": "code",
      "execution_count": 12,
      "metadata": {
        "colab": {
          "base_uri": "https://localhost:8080/"
        },
        "id": "K53k5AAFJbql",
        "outputId": "206f973a-a13a-494c-a5b2-4ef2d7163b87"
      },
      "outputs": [
        {
          "output_type": "stream",
          "name": "stdout",
          "text": [
            "Shortest distance from A to E: 10\n",
            "Path: A -> C -> B -> D -> E\n"
          ]
        }
      ],
      "source": [
        "import heapq\n",
        "\n",
        "def dijkstra(graph, start, end):\n",
        "    # Priority queue to hold (cost, node) tuples\n",
        "    pq = []\n",
        "    heapq.heappush(pq, (0, start))\n",
        "\n",
        "    # Distance dictionary to store the shortest distance to each node\n",
        "    distances = {node: float('inf') for node in graph}\n",
        "    distances[start] = 0\n",
        "\n",
        "    # Dictionary to store the path taken\n",
        "    previous_nodes = {node: None for node in graph}\n",
        "\n",
        "    while pq:\n",
        "        current_distance, current_node = heapq.heappop(pq)\n",
        "\n",
        "        # Skip nodes that have already been visited with a shorter path\n",
        "        if current_distance > distances[current_node]:\n",
        "            continue\n",
        "\n",
        "        for neighbor, weight in graph[current_node].items():\n",
        "            distance = current_distance + weight\n",
        "\n",
        "            # If a shorter path to the neighbor is found\n",
        "            if distance < distances[neighbor]:\n",
        "                distances[neighbor] = distance\n",
        "                previous_nodes[neighbor] = current_node\n",
        "                heapq.heappush(pq, (distance, neighbor))\n",
        "\n",
        "    # Reconstruct the shortest path\n",
        "    path = []\n",
        "    current = end\n",
        "    while current is not None:\n",
        "        path.append(current)\n",
        "        current = previous_nodes[current]\n",
        "    path.reverse()\n",
        "\n",
        "    return distances[end], path\n",
        "\n",
        "# Example city map represented as a graph\n",
        "city_map = {\n",
        "    'A': {'B': 4, 'C': 2},\n",
        "    'B': {'A': 4, 'C': 1, 'D': 5},\n",
        "    'C': {'A': 2, 'B': 1, 'D': 8, 'E': 10},\n",
        "    'D': {'B': 5, 'C': 8, 'E': 2},\n",
        "    'E': {'C': 10, 'D': 2}\n",
        "}\n",
        "\n",
        "# Test the algorithm\n",
        "start_node = 'A'\n",
        "end_node = 'E'\n",
        "distance, path = dijkstra(city_map, start_node, end_node)\n",
        "\n",
        "print(f\"Shortest distance from {start_node} to {end_node}: {distance}\")\n",
        "print(f\"Path: {' -> '.join(path)}\")\n"
      ]
    }
  ]
}